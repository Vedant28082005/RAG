{
 "cells": [
  {
   "cell_type": "code",
   "execution_count": 8,
   "metadata": {},
   "outputs": [],
   "source": [
    "from langchain.text_splitter import RecursiveCharacterTextSplitter\n",
    "from PyPDF2 import PdfReader\n",
    "\n",
    "# Load the PDF\n",
    "pdf_reader = PdfReader(\"example.pdf\")\n",
    "text = \"\"\n",
    "for page in pdf_reader.pages:\n",
    "    text += page.extract_text()\n",
    "\n",
    "# Split text into smaller chunks\n",
    "text_splitter = RecursiveCharacterTextSplitter(\n",
    "    chunk_size=500,  # Adjust size as needed\n",
    "    chunk_overlap=50  # Overlap to maintain context\n",
    ")\n",
    "chunks = text_splitter.split_text(text)\n"
   ]
  },
  {
   "cell_type": "code",
   "execution_count": 10,
   "metadata": {},
   "outputs": [],
   "source": [
    "from sentence_transformers import SentenceTransformer\n",
    "\n",
    "# Load a free embeddings model\n",
    "model = SentenceTransformer('all-MiniLM-L6-v2')  # Free model\n",
    "\n",
    "# Generate embeddings for the chunks\n",
    "embeddings = model.encode(chunks)\n"
   ]
  },
  {
   "cell_type": "code",
   "execution_count": 11,
   "metadata": {},
   "outputs": [],
   "source": [
    "import faiss\n",
    "import numpy as np\n",
    "\n",
    "# Create a FAISS index\n",
    "dimension = embeddings.shape[1]\n",
    "index = faiss.IndexFlatL2(dimension)\n",
    "\n",
    "# Add embeddings to the index\n",
    "index.add(np.array(embeddings))\n",
    "\n",
    "# Save FAISS index locally (optional)\n",
    "faiss.write_index(index, \"faiss_index\")\n"
   ]
  },
  {
   "cell_type": "code",
   "execution_count": 27,
   "metadata": {},
   "outputs": [],
   "source": [
    "# User query\n",
    "query = input(\"Enter your query\")\n",
    "query_embedding = model.encode([query])\n",
    "\n",
    "# Search FAISS for the top matches\n",
    "k = 5  # Number of chunks to retrieve\n",
    "distances, indices = index.search(np.array(query_embedding), k)\n",
    "\n",
    "# Retrieve the top chunks\n",
    "retrieved_chunks = [chunks[i] for i in indices[0]]\n"
   ]
  },
  {
   "cell_type": "code",
   "execution_count": 28,
   "metadata": {},
   "outputs": [
    {
     "name": "stderr",
     "output_type": "stream",
     "text": [
      "Device set to use cpu\n",
      "Asking to truncate to max_length but no maximum length is provided and the model has no predefined maximum length. Default to no truncation.\n"
     ]
    },
    {
     "name": "stdout",
     "output_type": "stream",
     "text": [
      "Context: 4.6.8.3 Stopping distances and stopping times for STOP 1, axis 2\n",
      "Fig. 4-52: Stopping distances for STOP 1, axis 2\n",
      "68 / 109 Issued: 22.07.2013 Version: Spez KR 360-3 KR 500-3 V5 en (PDF)KR 360-3; KR 500-3\n",
      "Fig. 4-53: Stopping times for STOP 1, axis 2\n",
      "69 / 109 Issued: 22.07.2013 Version: Spez KR 360-3 KR 500-3 V5 en (PDF)4 Technical data\n",
      "4.6.8.4 Stopping distances and stopping times for STOP 1, axis 3\n",
      "Fig. 4-54: Stopping distances for STOP 1, axis 3\n",
      "Fig. 4-55: Stopping times for STOP 1, axis 3 4.6.6.2 Stopping distances and stopping times for STOP 1, axis 1\n",
      "Fig. 4-38: Stopping distances for STOP 1, axis 1\n",
      "56 / 109 Issued: 22.07.2013 Version: Spez KR 360-3 KR 500-3 V5 en (PDF)KR 360-3; KR 500-3\n",
      "Fig. 4-39: Stopping times for STOP 1, axis 1\n",
      "57 / 109 Issued: 22.07.2013 Version: Spez KR 360-3 KR 500-3 V5 en (PDF)4 Technical data\n",
      "4.6.6.3 Stopping distances and stopping times for STOP 1, axis 2\n",
      "Fig. 4-40: Stopping distances for STOP 1, axis 2 Fig. 4-35: Stopping times for STOP 1, axis 2\n",
      "54 / 109 Issued: 22.07.2013 Version: Spez KR 360-3 KR 500-3 V5 en (PDF)KR 360-3; KR 500-3\n",
      "4.6.5.4 Stopping distances and stoppi ng times for STOP 1, axis 3\n",
      "4.6.6 Stopping distances an d times, KR 500-3, KR 500-3 F, KR 500-3 C\n",
      "4.6.6.1 Stopping distances an d stopping times for STOP 0, axis 1 to axis 3\n",
      "The table shows the stopping distances and stopping times after a STOP 0 Fig. 4-23: Stopping times for STOP 1, axis 2\n",
      "44 / 109 Issued: 22.07.2013 Version: Spez KR 360-3 KR 500-3 V5 en (PDF)KR 360-3; KR 500-3\n",
      "4.6.3.4 Stopping distances and stoppi ng times for STOP 1, axis 3\n",
      "4.6.4 Stopping distances and times, KR 360 L240-3, KR 360 L240-3 F\n",
      "4.6.4.1 Stopping distances an d stopping times for STOP 0, axis 1 to axis 3\n",
      "The table shows the stopping distances and stopping times after a STOP 0 \n",
      "(category 0 stop) is triggered. The values refer to the following configuration: 4.6.8.1 Stopping distances and stopping times for STOP 0, axis 1 to axis 3 .............. 64\n",
      "4.6.8.2 Stopping distances and stopping times for STOP 1, axis 1 ............................ 654.6.8.3 Stopping distances and stopping times for STOP 1, axis 2 ............................ 67\n",
      "4.6.8.4 Stopping distances and stopping times for STOP 1, axis 3 ............................ 69\n",
      "\n",
      "Question: What is stopping distance\n",
      "Answer: Stopping distance is the distance between the start and the end of the path. The stopping distance is defined as the distance between the start and the end of the path. The stopping distance is defined as the distance between the start and the end of the\n"
     ]
    }
   ],
   "source": [
    "from transformers import pipeline\n",
    "\n",
    "# Load a free language model\n",
    "generator = pipeline('text-generation', model='bigscience/bloom-560m', device='cpu')\n",
    "\n",
    "# Combine retrieved chunks into context\n",
    "context = \" \".join(retrieved_chunks)\n",
    "response = generator(\n",
    "    f\"Context: {context}\\n\\nQuestion: {query}\\nAnswer:\",\n",
    "    max_new_tokens=50,  # Number of tokens to generate\n",
    "    truncation=True     # Truncate the input if it exceeds the max length\n",
    ")\n",
    "print(response[0]['generated_text'])\n"
   ]
  },
  {
   "cell_type": "code",
   "execution_count": null,
   "metadata": {},
   "outputs": [],
   "source": []
  },
  {
   "cell_type": "code",
   "execution_count": 23,
   "metadata": {},
   "outputs": [
    {
     "name": "stdout",
     "output_type": "stream",
     "text": [
      "Context: 4.6.8.3 Stopping distances and stopping times for STOP 1, axis 2\n",
      "Fig. 4-52: Stopping distances for STOP 1, axis 2\n",
      "68 / 109 Issued: 22.07.2013 Version: Spez KR 360-3 KR 500-3 V5 en (PDF)KR 360-3; KR 500-3\n",
      "Fig. 4-53: Stopping times for STOP 1, axis 2\n",
      "69 / 109 Issued: 22.07.2013 Version: Spez KR 360-3 KR 500-3 V5 en (PDF)4 Technical data\n",
      "4.6.8.4 Stopping distances and stopping times for STOP 1, axis 3\n",
      "Fig. 4-54: Stopping distances for STOP 1, axis 3\n",
      "Fig. 4-55: Stopping times for STOP 1, axis 3 4.6.8.1 Stopping distances and stopping times for STOP 0, axis 1 to axis 3 .............. 64\n",
      "4.6.8.2 Stopping distances and stopping times for STOP 1, axis 1 ............................ 654.6.8.3 Stopping distances and stopping times for STOP 1, axis 2 ............................ 67\n",
      "4.6.8.4 Stopping distances and stopping times for STOP 1, axis 3 ............................ 69 4.6.6.2 Stopping distances and stopping times for STOP 1, axis 1\n",
      "Fig. 4-38: Stopping distances for STOP 1, axis 1\n",
      "56 / 109 Issued: 22.07.2013 Version: Spez KR 360-3 KR 500-3 V5 en (PDF)KR 360-3; KR 500-3\n",
      "Fig. 4-39: Stopping times for STOP 1, axis 1\n",
      "57 / 109 Issued: 22.07.2013 Version: Spez KR 360-3 KR 500-3 V5 en (PDF)4 Technical data\n",
      "4.6.6.3 Stopping distances and stopping times for STOP 1, axis 2\n",
      "Fig. 4-40: Stopping distances for STOP 1, axis 2 Fig. 4-35: Stopping times for STOP 1, axis 2\n",
      "54 / 109 Issued: 22.07.2013 Version: Spez KR 360-3 KR 500-3 V5 en (PDF)KR 360-3; KR 500-3\n",
      "4.6.5.4 Stopping distances and stoppi ng times for STOP 1, axis 3\n",
      "4.6.6 Stopping distances an d times, KR 500-3, KR 500-3 F, KR 500-3 C\n",
      "4.6.6.1 Stopping distances an d stopping times for STOP 0, axis 1 to axis 3\n",
      "The table shows the stopping distances and stopping times after a STOP 0 Fig. 4-23: Stopping times for STOP 1, axis 2\n",
      "44 / 109 Issued: 22.07.2013 Version: Spez KR 360-3 KR 500-3 V5 en (PDF)KR 360-3; KR 500-3\n",
      "4.6.3.4 Stopping distances and stoppi ng times for STOP 1, axis 3\n",
      "4.6.4 Stopping distances and times, KR 360 L240-3, KR 360 L240-3 F\n",
      "4.6.4.1 Stopping distances an d stopping times for STOP 0, axis 1 to axis 3\n",
      "The table shows the stopping distances and stopping times after a STOP 0 \n",
      "(category 0 stop) is triggered. The values refer to the following configuration:\n",
      "\n",
      "Question: What is stopping distance and stop time TIME1\n",
      "Answer: Stopping distance and stop time TIME1 is defined as the distance between the start and the end of the first axis. The stop time is defined as the time between the start and the end of the second axis. The stop time is defined as the\n"
     ]
    }
   ],
   "source": [
    "# Combine retrieved chunks into context\n",
    "context = \" \".join(retrieved_chunks)\n",
    "response = generator(\n",
    "    f\"Context: {context}\\n\\nQuestion: {query}\\nAnswer:\",\n",
    "    max_new_tokens=50,  # Number of tokens to generate\n",
    "    truncation=True     # Truncate the input if it exceeds the max length\n",
    ")\n",
    "print(response[0]['generated_text'])"
   ]
  }
 ],
 "metadata": {
  "kernelspec": {
   "display_name": "rag",
   "language": "python",
   "name": "python3"
  },
  "language_info": {
   "codemirror_mode": {
    "name": "ipython",
    "version": 3
   },
   "file_extension": ".py",
   "mimetype": "text/x-python",
   "name": "python",
   "nbconvert_exporter": "python",
   "pygments_lexer": "ipython3",
   "version": "3.11.5"
  }
 },
 "nbformat": 4,
 "nbformat_minor": 2
}
